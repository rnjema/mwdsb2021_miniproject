import pandas as pd
import numpy as np
import sklearn.svm as SVC
import matplotlib as mtlib

data =pd.read_csv("datasets/Africa_Conflict_Data.csv")
data

# Drop unamed columns
data=data.drop(['Unnamed: 25','Unnamed: 26'], axis=1)

#Checking number of events
data['EVENT_TYPE'].count()

#veryifying distribution of event data
#The list includes 3 items but these are rather 2 cases. We need to clean Violence Against Civilians to form uniform data
data_event_group['EVENT_TYPE'].count()

data.EVENT_TYPE.replace(to_replace = ['Violence against civilians', 'Remote violence'], value = ['Violence Against Civilians', 'Remote Violence'], inplace = True)
data_event_group['EVENT_TYPE'].count()

sa_data=data[data['COUNTRY']=="South Africa"]
sa_data

#Validate Actors

sa_data['ACTOR1'].unique()

#Drop non south africa related actors
sa_data=sa_data[~sa_data['ACTOR1'].isin(['Rioters (South Sudan)','Protesters (Democratic Republic of Congo)', 'Protesters (Zimbabwe)'])]

sa_data['ACTOR1'].unique()
