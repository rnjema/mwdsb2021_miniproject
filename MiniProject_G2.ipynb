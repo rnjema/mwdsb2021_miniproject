import pandas as pd
data =pd.read_csv("datasets/Africa_Conflict_Data.csv")
mw_data=data[data['COUNTRY']=="Malawi"]

# Drop unamed columns
mw_data=mw_data.drop(['Unnamed: 25','Unnamed: 26'], axis=1)

#Checking number of events
mw_data['EVENT_TYPE'].count()

#Grouping by event type
mw_event_group= mw_data.groupby(mw_data['EVENT_TYPE'])

#veryifying distribution of event data
#The list includes 3 items but these are rather 2 cases. We need to clean Violence Against Civilians to form uniform data
mw_event_group['EVENT_TYPE'].count()
